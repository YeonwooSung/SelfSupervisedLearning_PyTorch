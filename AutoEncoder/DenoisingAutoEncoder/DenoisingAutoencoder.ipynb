{
  "nbformat": 4,
  "nbformat_minor": 0,
  "metadata": {
    "colab": {
      "name": "DenoisingAutoencoder.ipynb",
      "version": "0.3.2",
      "provenance": [],
      "collapsed_sections": []
    },
    "kernelspec": {
      "name": "python3",
      "display_name": "Python 3"
    },
    "accelerator": "GPU"
  },
  "cells": [
    {
      "metadata": {
        "id": "QbygB5YNKEMJ",
        "colab_type": "code",
        "outputId": "cfca99ba-bbe3-48ed-9ed1-a5c189ad9469",
        "colab": {
          "base_uri": "https://localhost:8080/",
          "height": 35
        }
      },
      "cell_type": "code",
      "source": [
        "import numpy as np\n",
        "from keras.datasets import mnist\n",
        "import matplotlib.pyplot as plt\n",
        "from tqdm import tqdm\n",
        "from torchvision import transforms\n",
        "import torch.nn as nn\n",
        "from torch.utils.data import DataLoader,Dataset\n",
        "import torch\n",
        "import torch.optim as optim\n",
        "from torch.autograd import Variable"
      ],
      "execution_count": 1,
      "outputs": [
        {
          "output_type": "stream",
          "text": [
            "Using TensorFlow backend.\n"
          ],
          "name": "stderr"
        }
      ]
    },
    {
      "metadata": {
        "id": "fbKtjNSyKclx",
        "colab_type": "code",
        "colab": {}
      },
      "cell_type": "code",
      "source": [
        "\"\"\"\n",
        "Here we load the dataset, add gaussian,poisson,speckle\n",
        "\n",
        "    'gauss'     Gaussian-distributed additive noise.\n",
        "    'speckle'   Multiplicative noise using out = image + n*image,where\n",
        "                n is uniform noise with specified mean & variance.\n",
        "                \n",
        "We define a function that adds each noise when called from main function\n",
        "Input & Output: np array\n",
        "                \n",
        "\"\"\"\n",
        "\n",
        "\n",
        "def add_noise(img,noise_type=\"gaussian\"):\n",
        "  \n",
        "  row,col=28,28\n",
        "  img=img.astype(np.float32)\n",
        "  \n",
        "  if noise_type==\"gaussian\":\n",
        "    mean=0\n",
        "    var=10\n",
        "    sigma=var**.5\n",
        "    noise=np.random.normal(-5.9,5.9,img.shape)\n",
        "    noise=noise.reshape(row,col)\n",
        "    img=img+noise\n",
        "    return img\n",
        "\n",
        "  if noise_type==\"speckle\":\n",
        "    noise=np.random.randn(row,col)\n",
        "    noise=noise.reshape(row,col)\n",
        "    img=img+img*noise\n",
        "    return img"
      ],
      "execution_count": 0,
      "outputs": []
    },
    {
      "metadata": {
        "id": "crPgb8VXOceY",
        "colab_type": "code",
        "outputId": "ada9c8c1-4bbc-4880-ca46-cfa504885fe9",
        "colab": {
          "base_uri": "https://localhost:8080/",
          "height": 87
        }
      },
      "cell_type": "code",
      "source": [
        "#Here we load the dataset from keras\n",
        "(xtrain,ytrain),(xtest,ytest)=mnist.load_data()\n",
        "print(\"No of training datapoints:{}\\nNo of Test datapoints:{}\".format(len(xtrain),len(xtest)))"
      ],
      "execution_count": 3,
      "outputs": [
        {
          "output_type": "stream",
          "text": [
            "Downloading data from https://s3.amazonaws.com/img-datasets/mnist.npz\n",
            "11493376/11490434 [==============================] - 4s 0us/step\n",
            "No of training datapoints:60000\n",
            "No of Test datapoints:10000\n"
          ],
          "name": "stdout"
        }
      ]
    },
    {
      "metadata": {
        "id": "7kq9PiLARTic",
        "colab_type": "code",
        "outputId": "480e62e7-4ed2-4278-c47c-f7770accaad2",
        "colab": {
          "base_uri": "https://localhost:8080/",
          "height": 191
        }
      },
      "cell_type": "code",
      "source": [
        "\"\"\"\n",
        "From here onwards,we split the 60k training datapoints into 3 sets each given one type of each noise.\n",
        "We shuffle them for better generalization.\n",
        "\"\"\"\n",
        "noises=[\"gaussian\",\"speckle\"]\n",
        "noise_ct=0\n",
        "noise_id=0\n",
        "traindata=np.zeros((60000,28,28))\n",
        "\n",
        "\n",
        "\n",
        "for idx in tqdm(range(len(xtrain))):\n",
        "  \n",
        "  if noise_ct<(len(xtrain)/2):\n",
        "    noise_ct+=1\n",
        "    traindata[idx]=add_noise(xtrain[idx],noise_type=noises[noise_id])\n",
        "    \n",
        "  else:\n",
        "    print(\"\\n{} noise addition completed to images\".format(noises[noise_id]))\n",
        "    noise_id+=1\n",
        "    noise_ct=0\n",
        "\n",
        "\n",
        "print(\"\\n{} noise addition completed to images\".format(noises[noise_id])) \n",
        "\n",
        "\n",
        "\n",
        "\n",
        "noise_ct=0\n",
        "noise_id=0\n",
        "testdata=np.zeros((10000,28,28))\n",
        "\n",
        "for idx in tqdm(range(len(xtest))):\n",
        "  \n",
        "  if noise_ct<(len(xtest)/2):\n",
        "    noise_ct+=1\n",
        "    x=add_noise(xtest[idx],noise_type=noises[noise_id])\n",
        "    testdata[idx]=x\n",
        "    \n",
        "  else:\n",
        "    print(\"\\n{} noise addition completed to images\".format(noises[noise_id]))\n",
        "    noise_id+=1\n",
        "    noise_ct=0\n",
        "\n",
        "\n",
        "print(\"\\n{} noise addition completed to images\".format(noises[noise_id]))    \n",
        "  "
      ],
      "execution_count": 10,
      "outputs": [
        {
          "output_type": "stream",
          "text": [
            " 56%|█████▌    | 33686/60000 [00:01<00:01, 23015.07it/s]"
          ],
          "name": "stderr"
        },
        {
          "output_type": "stream",
          "text": [
            "\n",
            "gaussian noise addition completed to images\n"
          ],
          "name": "stdout"
        },
        {
          "output_type": "stream",
          "text": [
            "100%|██████████| 60000/60000 [00:02<00:00, 22765.24it/s]\n",
            " 22%|██▏       | 2182/10000 [00:00<00:00, 21816.48it/s]"
          ],
          "name": "stderr"
        },
        {
          "output_type": "stream",
          "text": [
            "\n",
            "speckle noise addition completed to images\n"
          ],
          "name": "stdout"
        },
        {
          "output_type": "stream",
          "text": [
            " 87%|████████▋ | 8747/10000 [00:00<00:00, 22026.82it/s]"
          ],
          "name": "stderr"
        },
        {
          "output_type": "stream",
          "text": [
            "\n",
            "gaussian noise addition completed to images\n"
          ],
          "name": "stdout"
        },
        {
          "output_type": "stream",
          "text": [
            "\r100%|██████████| 10000/10000 [00:00<00:00, 21813.70it/s]"
          ],
          "name": "stderr"
        },
        {
          "output_type": "stream",
          "text": [
            "\n",
            "speckle noise addition completed to images\n"
          ],
          "name": "stdout"
        },
        {
          "output_type": "stream",
          "text": [
            "\n"
          ],
          "name": "stderr"
        }
      ]
    },
    {
      "metadata": {
        "id": "D5WxFXykKB0z",
        "colab_type": "code",
        "colab": {}
      },
      "cell_type": "code",
      "source": [
        ""
      ],
      "execution_count": 0,
      "outputs": []
    },
    {
      "metadata": {
        "id": "r1PruBRYUmYZ",
        "colab_type": "code",
        "outputId": "78712c1a-755a-433a-cc34-4b501a2fad5a",
        "colab": {
          "base_uri": "https://localhost:8080/",
          "height": 299
        }
      },
      "cell_type": "code",
      "source": [
        "\"\"\"\n",
        "Here we Try to visualize, each type of noise that was introduced in the images\n",
        "Along with their original versions\n",
        "\n",
        "\"\"\"\n",
        "\n",
        "f, axes=plt.subplots(2,2)\n",
        "\n",
        "#showing images with gaussian noise\n",
        "axes[0,0].imshow(xtrain[0],cmap=\"gray\")\n",
        "axes[0,0].set_title(\"Original Image\")\n",
        "axes[1,0].imshow(traindata[0],cmap='gray')\n",
        "axes[1,0].set_title(\"Noised Image\")\n",
        "\n",
        "#showing images with speckle noise\n",
        "axes[0,1].imshow(xtrain[25000],cmap='gray')\n",
        "axes[0,1].set_title(\"Original Image\")\n",
        "axes[1,1].imshow(traindata[25000],cmap=\"gray\")\n",
        "axes[1,1].set_title(\"Noised Image\")\n",
        "\n"
      ],
      "execution_count": 11,
      "outputs": [
        {
          "output_type": "execute_result",
          "data": {
            "text/plain": [
              "Text(0.5, 1.0, 'Noised Image')"
            ]
          },
          "metadata": {
            "tags": []
          },
          "execution_count": 11
        },
        {
          "output_type": "display_data",
          "data": {
            "image/png": "[encoded data removed]",
            "text/plain": [
              "<Figure size 432x288 with 4 Axes>"
            ]
          },
          "metadata": {
            "tags": []
          }
        }
      ]
    },
    {
      "metadata": {
        "id": "Vfchnr-E_kka",
        "colab_type": "code",
        "colab": {}
      },
      "cell_type": "code",
      "source": [
        "class noisedDataset(Dataset):\n",
        "  \n",
        "  def __init__(self,datasetnoised,datasetclean,labels,transform):\n",
        "    self.noise=datasetnoised\n",
        "    self.clean=datasetclean\n",
        "    self.labels=labels\n",
        "    self.transform=transform\n",
        "  \n",
        "  def __len__(self):\n",
        "    return len(self.noise)\n",
        "  \n",
        "  def __getitem__(self,idx):\n",
        "    xNoise=self.noise[idx]\n",
        "    xClean=self.clean[idx]\n",
        "    y=self.labels[idx]\n",
        "    \n",
        "    if self.transform != None:\n",
        "      xNoise=self.transform(xNoise)\n",
        "      xClean=self.transform(xClean)\n",
        "      \n",
        "    \n",
        "    return (xNoise,xClean,y)\n",
        "      \n",
        "  \n",
        "    "
      ],
      "execution_count": 0,
      "outputs": []
    },
    {
      "metadata": {
        "id": "HyzkdVVUC6ps",
        "colab_type": "code",
        "colab": {}
      },
      "cell_type": "code",
      "source": [
        "tsfms=transforms.Compose([\n",
        "    transforms.ToTensor()\n",
        "])\n",
        "\n",
        "trainset=noisedDataset(traindata,xtrain,ytrain,tsfms)\n",
        "testset=noisedDataset(testdata,xtest,ytest,tsfms)"
      ],
      "execution_count": 0,
      "outputs": []
    },
    {
      "metadata": {
        "id": "vTQ_iF1fXxC8",
        "colab_type": "code",
        "colab": {}
      },
      "cell_type": "code",
      "source": [
        "\"\"\"\n",
        "Here , we create the trainloaders and testloaders.\n",
        "Also, we transform the images using standard lib functions\n",
        "\"\"\"\n",
        "\n",
        "\n",
        "batch_size=32\n",
        "\n",
        "\n",
        "\n",
        "trainloader=DataLoader(trainset,batch_size=32,shuffle=True)\n",
        "testloader=DataLoader(testset,batch_size=1,shuffle=True)\n",
        "\n"
      ],
      "execution_count": 0,
      "outputs": []
    },
    {
      "metadata": {
        "id": "1P60Cuv7pQO6",
        "colab_type": "code",
        "colab": {}
      },
      "cell_type": "code",
      "source": [
        "\"\"\"\n",
        "Here, we define the autoencoder model.\n",
        "\"\"\"\n",
        "\n",
        "class denoising_model(nn.Module):\n",
        "  def __init__(self):\n",
        "    super(denoising_model,self).__init__()\n",
        "    self.encoder=nn.Sequential(\n",
        "                  nn.Linear(28*28,256),\n",
        "                  nn.ReLU(True),\n",
        "                  nn.Linear(256,128),\n",
        "                  nn.ReLU(True),\n",
        "                  nn.Linear(128,64),\n",
        "                  nn.ReLU(True)\n",
        "        \n",
        "                  )\n",
        "    \n",
        "    self.decoder=nn.Sequential(\n",
        "                  nn.Linear(64,128),\n",
        "                  nn.ReLU(True),\n",
        "                  nn.Linear(128,256),\n",
        "                  nn.ReLU(True),\n",
        "                  nn.Linear(256,28*28),\n",
        "                  nn.Sigmoid(),\n",
        "                  )\n",
        "    \n",
        " \n",
        "  def forward(self,x):\n",
        "    x=self.encoder(x)\n",
        "    x=self.decoder(x)\n",
        "    \n",
        "    return x\n",
        "  "
      ],
      "execution_count": 0,
      "outputs": []
    },
    {
      "metadata": {
        "id": "S_AYl41OsNtt",
        "colab_type": "code",
        "outputId": "e000921e-4fc4-4597-b5c5-023405347075",
        "colab": {
          "base_uri": "https://localhost:8080/",
          "height": 6257
        }
      },
      "cell_type": "code",
      "source": [
        "#We check whether cuda is available and choose device accordingly\n",
        "if torch.cuda.is_available()==True:\n",
        "  device=\"cuda:0\"\n",
        "else:\n",
        "  device =\"cpu\"\n",
        "\n",
        "  \n",
        "model=denoising_model().to(device)\n",
        "criterion=nn.MSELoss()\n",
        "optimizer=optim.SGD(model.parameters(),lr=0.01,weight_decay=1e-5)\n",
        "\n",
        "\n",
        "epochs=120\n",
        "l=len(trainloader)\n",
        "losslist=list()\n",
        "epochloss=0\n",
        "running_loss=0\n",
        "for epoch in range(epochs):\n",
        "  \n",
        "  print(\"Entering Epoch: \",epoch)\n",
        "  for dirty,clean,label in tqdm((trainloader)):\n",
        "    \n",
        "    \n",
        "    dirty=dirty.view(dirty.size(0),-1).type(torch.FloatTensor)\n",
        "    clean=clean.view(clean.size(0),-1).type(torch.FloatTensor)\n",
        "    dirty,clean=dirty.to(device),clean.to(device)\n",
        "    \n",
        "    \n",
        "    \n",
        "    #-----------------Forward Pass----------------------\n",
        "    output=model(dirty)\n",
        "    loss=criterion(output,clean)\n",
        "    #-----------------Backward Pass---------------------\n",
        "    optimizer.zero_grad()\n",
        "    loss.backward()\n",
        "    optimizer.step()\n",
        "    \n",
        "    running_loss+=loss.item()\n",
        "    epochloss+=loss.item()\n",
        "  #-----------------Log-------------------------------\n",
        "  losslist.append(running_loss/l)\n",
        "  running_loss=0\n",
        "  print(\"======> epoch: {}/{}, Loss:{}\".format(epoch,epochs,loss.item()))\n",
        "    \n",
        "    \n",
        "      \n",
        "      \n",
        "    \n",
        "\n",
        " "
      ],
      "execution_count": 17,
      "outputs": [
        {
          "output_type": "stream",
          "text": [
            "  1%|          | 13/1875 [00:00<00:14, 129.10it/s]"
          ],
          "name": "stderr"
        },
        {
          "output_type": "stream",
          "text": [
            "Entering Epoch:  0\n"
          ],
          "name": "stdout"
        },
        {
          "output_type": "stream",
          "text": [
            "100%|██████████| 1875/1875 [00:05<00:00, 350.93it/s]\n",
            "  2%|▏         | 32/1875 [00:00<00:05, 318.70it/s]"
          ],
          "name": "stderr"
        },
        {
          "output_type": "stream",
          "text": [
            "======> epoch: 0/120, Loss:0.07477772980928421\n",
            "Entering Epoch:  1\n"
          ],
          "name": "stdout"
        },
        {
          "output_type": "stream",
          "text": [
            "100%|██████████| 1875/1875 [00:05<00:00, 353.86it/s]\n",
            "  2%|▏         | 35/1875 [00:00<00:05, 347.27it/s]"
          ],
          "name": "stderr"
        },
        {
          "output_type": "stream",
          "text": [
            "======> epoch: 1/120, Loss:0.07071107625961304\n",
            "Entering Epoch:  2\n"
          ],
          "name": "stdout"
        },
        {
          "output_type": "stream",
          "text": [
            "100%|██████████| 1875/1875 [00:05<00:00, 355.04it/s]\n",
            "  2%|▏         | 35/1875 [00:00<00:05, 346.80it/s]"
          ],
          "name": "stderr"
        },
        {
          "output_type": "stream",
          "text": [
            "======> epoch: 2/120, Loss:0.0689566433429718\n",
            "Entering Epoch:  3\n"
          ],
          "name": "stdout"
        },
        {
          "output_type": "stream",
          "text": [
            "100%|██████████| 1875/1875 [00:05<00:00, 327.84it/s]\n",
            "  2%|▏         | 30/1875 [00:00<00:06, 293.31it/s]"
          ],
          "name": "stderr"
        },
        {
          "output_type": "stream",
          "text": [
            "======> epoch: 3/120, Loss:0.058644551783800125\n",
            "Entering Epoch:  4\n"
          ],
          "name": "stdout"
        },
        {
          "output_type": "stream",
          "text": [
            "100%|██████████| 1875/1875 [00:06<00:00, 306.61it/s]\n",
            "  2%|▏         | 30/1875 [00:00<00:06, 298.86it/s]"
          ],
          "name": "stderr"
        },
        {
          "output_type": "stream",
          "text": [
            "======> epoch: 4/120, Loss:0.055324405431747437\n",
            "Entering Epoch:  5\n"
          ],
          "name": "stdout"
        },
        {
          "output_type": "stream",
          "text": [
            "100%|██████████| 1875/1875 [00:05<00:00, 355.81it/s]\n",
            "  2%|▏         | 35/1875 [00:00<00:05, 343.49it/s]"
          ],
          "name": "stderr"
        },
        {
          "output_type": "stream",
          "text": [
            "======> epoch: 5/120, Loss:0.06583036482334137\n",
            "Entering Epoch:  6\n"
          ],
          "name": "stdout"
        },
        {
          "output_type": "stream",
          "text": [
            "100%|██████████| 1875/1875 [00:05<00:00, 356.87it/s]\n",
            "  2%|▏         | 36/1875 [00:00<00:05, 352.24it/s]"
          ],
          "name": "stderr"
        },
        {
          "output_type": "stream",
          "text": [
            "======> epoch: 6/120, Loss:0.05749344825744629\n",
            "Entering Epoch:  7\n"
          ],
          "name": "stdout"
        },
        {
          "output_type": "stream",
          "text": [
            "100%|██████████| 1875/1875 [00:05<00:00, 354.83it/s]\n",
            "  2%|▏         | 36/1875 [00:00<00:05, 351.48it/s]"
          ],
          "name": "stderr"
        },
        {
          "output_type": "stream",
          "text": [
            "======> epoch: 7/120, Loss:0.05596856027841568\n",
            "Entering Epoch:  8\n"
          ],
          "name": "stdout"
        },
        {
          "output_type": "stream",
          "text": [
            "100%|██████████| 1875/1875 [00:05<00:00, 355.00it/s]\n",
            "  2%|▏         | 36/1875 [00:00<00:05, 352.39it/s]"
          ],
          "name": "stderr"
        },
        {
          "output_type": "stream",
          "text": [
            "======> epoch: 8/120, Loss:0.05280887708067894\n",
            "Entering Epoch:  9\n"
          ],
          "name": "stdout"
        },
        {
          "output_type": "stream",
          "text": [
            "100%|██████████| 1875/1875 [00:05<00:00, 354.03it/s]\n",
            "  2%|▏         | 36/1875 [00:00<00:05, 351.55it/s]"
          ],
          "name": "stderr"
        },
        {
          "output_type": "stream",
          "text": [
            "======> epoch: 9/120, Loss:0.05076480284333229\n",
            "Entering Epoch:  10\n"
          ],
          "name": "stdout"
        },
        {
          "output_type": "stream",
          "text": [
            "100%|██████████| 1875/1875 [00:05<00:00, 355.38it/s]\n",
            "  2%|▏         | 32/1875 [00:00<00:05, 318.82it/s]"
          ],
          "name": "stderr"
        },
        {
          "output_type": "stream",
          "text": [
            "======> epoch: 10/120, Loss:0.05066143721342087\n",
            "Entering Epoch:  11\n"
          ],
          "name": "stdout"
        },
        {
          "output_type": "stream",
          "text": [
            "100%|██████████| 1875/1875 [00:05<00:00, 354.91it/s]\n",
            "  2%|▏         | 35/1875 [00:00<00:05, 344.51it/s]"
          ],
          "name": "stderr"
        },
        {
          "output_type": "stream",
          "text": [
            "======> epoch: 11/120, Loss:0.04446016624569893\n",
            "Entering Epoch:  12\n"
          ],
          "name": "stdout"
        },
        {
          "output_type": "stream",
          "text": [
            "100%|██████████| 1875/1875 [00:05<00:00, 355.07it/s]\n",
            "  2%|▏         | 35/1875 [00:00<00:05, 345.20it/s]"
          ],
          "name": "stderr"
        },
        {
          "output_type": "stream",
          "text": [
            "======> epoch: 12/120, Loss:0.046096790581941605\n",
            "Entering Epoch:  13\n"
          ],
          "name": "stdout"
        },
        {
          "output_type": "stream",
          "text": [
            "100%|██████████| 1875/1875 [00:05<00:00, 355.45it/s]\n",
            "  2%|▏         | 36/1875 [00:00<00:05, 351.29it/s]"
          ],
          "name": "stderr"
        },
        {
          "output_type": "stream",
          "text": [
            "======> epoch: 13/120, Loss:0.047888483852148056\n",
            "Entering Epoch:  14\n"
          ],
          "name": "stdout"
        },
        {
          "output_type": "stream",
          "text": [
            "100%|██████████| 1875/1875 [00:05<00:00, 353.15it/s]\n",
            "  2%|▏         | 35/1875 [00:00<00:05, 348.37it/s]"
          ],
          "name": "stderr"
        },
        {
          "output_type": "stream",
          "text": [
            "======> epoch: 14/120, Loss:0.04347974434494972\n",
            "Entering Epoch:  15\n"
          ],
          "name": "stdout"
        },
        {
          "output_type": "stream",
          "text": [
            "100%|██████████| 1875/1875 [00:05<00:00, 351.83it/s]\n",
            "  2%|▏         | 35/1875 [00:00<00:05, 343.83it/s]"
          ],
          "name": "stderr"
        },
        {
          "output_type": "stream",
          "text": [
            "======> epoch: 15/120, Loss:0.04276827350258827\n",
            "Entering Epoch:  16\n"
          ],
          "name": "stdout"
        },
        {
          "output_type": "stream",
          "text": [
            "100%|██████████| 1875/1875 [00:05<00:00, 352.17it/s]\n",
            "  2%|▏         | 34/1875 [00:00<00:05, 338.63it/s]"
          ],
          "name": "stderr"
        },
        {
          "output_type": "stream",
          "text": [
            "======> epoch: 16/120, Loss:0.04144679382443428\n",
            "Entering Epoch:  17\n"
          ],
          "name": "stdout"
        },
        {
          "output_type": "stream",
          "text": [
            "100%|██████████| 1875/1875 [00:05<00:00, 356.33it/s]\n",
            "  2%|▏         | 33/1875 [00:00<00:05, 326.17it/s]"
          ],
          "name": "stderr"
        },
        {
          "output_type": "stream",
          "text": [
            "======> epoch: 17/120, Loss:0.03927885368466377\n",
            "Entering Epoch:  18\n"
          ],
          "name": "stdout"
        },
        {
          "output_type": "stream",
          "text": [
            "100%|██████████| 1875/1875 [00:06<00:00, 305.32it/s]\n",
            "  2%|▏         | 31/1875 [00:00<00:06, 300.98it/s]"
          ],
          "name": "stderr"
        },
        {
          "output_type": "stream",
          "text": [
            "======> epoch: 18/120, Loss:0.04120118170976639\n",
            "Entering Epoch:  19\n"
          ],
          "name": "stdout"
        },
        {
          "output_type": "stream",
          "text": [
            "100%|██████████| 1875/1875 [00:06<00:00, 305.89it/s]\n",
            "  2%|▏         | 31/1875 [00:00<00:06, 302.35it/s]"
          ],
          "name": "stderr"
        },
        {
          "output_type": "stream",
          "text": [
            "======> epoch: 19/120, Loss:0.03607381507754326\n",
            "Entering Epoch:  20\n"
          ],
          "name": "stdout"
        },
        {
          "output_type": "stream",
          "text": [
            "100%|██████████| 1875/1875 [00:05<00:00, 352.60it/s]\n",
            "  2%|▏         | 36/1875 [00:00<00:05, 352.05it/s]"
          ],
          "name": "stderr"
        },
        {
          "output_type": "stream",
          "text": [
            "======> epoch: 20/120, Loss:0.04273674264550209\n",
            "Entering Epoch:  21\n"
          ],
          "name": "stdout"
        },
        {
          "output_type": "stream",
          "text": [
            "100%|██████████| 1875/1875 [00:05<00:00, 354.93it/s]\n",
            "  2%|▏         | 36/1875 [00:00<00:05, 350.92it/s]"
          ],
          "name": "stderr"
        },
        {
          "output_type": "stream",
          "text": [
            "======> epoch: 21/120, Loss:0.03951810300350189\n",
            "Entering Epoch:  22\n"
          ],
          "name": "stdout"
        },
        {
          "output_type": "stream",
          "text": [
            "100%|██████████| 1875/1875 [00:05<00:00, 355.54it/s]\n",
            "  2%|▏         | 36/1875 [00:00<00:05, 351.67it/s]"
          ],
          "name": "stderr"
        },
        {
          "output_type": "stream",
          "text": [
            "======> epoch: 22/120, Loss:0.03777847811579704\n",
            "Entering Epoch:  23\n"
          ],
          "name": "stdout"
        },
        {
          "output_type": "stream",
          "text": [
            "100%|██████████| 1875/1875 [00:05<00:00, 354.93it/s]\n",
            "  2%|▏         | 36/1875 [00:00<00:05, 352.07it/s]"
          ],
          "name": "stderr"
        },
        {
          "output_type": "stream",
          "text": [
            "======> epoch: 23/120, Loss:0.03964350000023842\n",
            "Entering Epoch:  24\n"
          ],
          "name": "stdout"
        },
        {
          "output_type": "stream",
          "text": [
            "100%|██████████| 1875/1875 [00:05<00:00, 355.63it/s]\n",
            "  2%|▏         | 33/1875 [00:00<00:05, 327.03it/s]"
          ],
          "name": "stderr"
        },
        {
          "output_type": "stream",
          "text": [
            "======> epoch: 24/120, Loss:0.036437053233385086\n",
            "Entering Epoch:  25\n"
          ],
          "name": "stdout"
        },
        {
          "output_type": "stream",
          "text": [
            "100%|██████████| 1875/1875 [00:05<00:00, 352.96it/s]\n",
            "  2%|▏         | 35/1875 [00:00<00:05, 349.34it/s]"
          ],
          "name": "stderr"
        },
        {
          "output_type": "stream",
          "text": [
            "======> epoch: 25/120, Loss:0.03277333453297615\n",
            "Entering Epoch:  26\n"
          ],
          "name": "stdout"
        },
        {
          "output_type": "stream",
          "text": [
            "100%|██████████| 1875/1875 [00:05<00:00, 353.59it/s]\n",
            "  2%|▏         | 36/1875 [00:00<00:05, 353.20it/s]"
          ],
          "name": "stderr"
        },
        {
          "output_type": "stream",
          "text": [
            "======> epoch: 26/120, Loss:0.03898153826594353\n",
            "Entering Epoch:  27\n"
          ],
          "name": "stdout"
        },
        {
          "output_type": "stream",
          "text": [
            "100%|██████████| 1875/1875 [00:05<00:00, 355.07it/s]\n",
            "  2%|▏         | 36/1875 [00:00<00:05, 352.82it/s]"
          ],
          "name": "stderr"
        },
        {
          "output_type": "stream",
          "text": [
            "======> epoch: 27/120, Loss:0.03752512112259865\n",
            "Entering Epoch:  28\n"
          ],
          "name": "stdout"
        },
        {
          "output_type": "stream",
          "text": [
            "100%|██████████| 1875/1875 [00:05<00:00, 356.25it/s]\n",
            "  2%|▏         | 36/1875 [00:00<00:05, 353.56it/s]"
          ],
          "name": "stderr"
        },
        {
          "output_type": "stream",
          "text": [
            "======> epoch: 28/120, Loss:0.03705248236656189\n",
            "Entering Epoch:  29\n"
          ],
          "name": "stdout"
        },
        {
          "output_type": "stream",
          "text": [
            "100%|██████████| 1875/1875 [00:05<00:00, 355.37it/s]\n",
            "  2%|▏         | 36/1875 [00:00<00:05, 353.26it/s]"
          ],
          "name": "stderr"
        },
        {
          "output_type": "stream",
          "text": [
            "======> epoch: 29/120, Loss:0.032881107181310654\n",
            "Entering Epoch:  30\n"
          ],
          "name": "stdout"
        },
        {
          "output_type": "stream",
          "text": [
            "100%|██████████| 1875/1875 [00:05<00:00, 354.89it/s]\n",
            "  2%|▏         | 33/1875 [00:00<00:05, 325.81it/s]"
          ],
          "name": "stderr"
        },
        {
          "output_type": "stream",
          "text": [
            "======> epoch: 30/120, Loss:0.0395297072827816\n",
            "Entering Epoch:  31\n"
          ],
          "name": "stdout"
        },
        {
          "output_type": "stream",
          "text": [
            "100%|██████████| 1875/1875 [00:05<00:00, 353.13it/s]\n",
            "  2%|▏         | 36/1875 [00:00<00:05, 350.38it/s]"
          ],
          "name": "stderr"
        },
        {
          "output_type": "stream",
          "text": [
            "======> epoch: 31/120, Loss:0.03000573441386223\n",
            "Entering Epoch:  32\n"
          ],
          "name": "stdout"
        },
        {
          "output_type": "stream",
          "text": [
            "100%|██████████| 1875/1875 [00:05<00:00, 353.85it/s]\n",
            "  2%|▏         | 35/1875 [00:00<00:05, 348.96it/s]"
          ],
          "name": "stderr"
        },
        {
          "output_type": "stream",
          "text": [
            "======> epoch: 32/120, Loss:0.03471994772553444\n",
            "Entering Epoch:  33\n"
          ],
          "name": "stdout"
        },
        {
          "output_type": "stream",
          "text": [
            "100%|██████████| 1875/1875 [00:05<00:00, 323.20it/s]\n",
            "  2%|▏         | 29/1875 [00:00<00:06, 281.56it/s]"
          ],
          "name": "stderr"
        },
        {
          "output_type": "stream",
          "text": [
            "======> epoch: 33/120, Loss:0.03302660584449768\n",
            "Entering Epoch:  34\n"
          ],
          "name": "stdout"
        },
        {
          "output_type": "stream",
          "text": [
            "100%|██████████| 1875/1875 [00:06<00:00, 308.89it/s]\n",
            "  2%|▏         | 35/1875 [00:00<00:05, 347.95it/s]"
          ],
          "name": "stderr"
        },
        {
          "output_type": "stream",
          "text": [
            "======> epoch: 34/120, Loss:0.03391418233513832\n",
            "Entering Epoch:  35\n"
          ],
          "name": "stdout"
        },
        {
          "output_type": "stream",
          "text": [
            "100%|██████████| 1875/1875 [00:05<00:00, 354.01it/s]\n",
            "  2%|▏         | 35/1875 [00:00<00:05, 347.52it/s]"
          ],
          "name": "stderr"
        },
        {
          "output_type": "stream",
          "text": [
            "======> epoch: 35/120, Loss:0.0332057848572731\n",
            "Entering Epoch:  36\n"
          ],
          "name": "stdout"
        },
        {
          "output_type": "stream",
          "text": [
            "100%|██████████| 1875/1875 [00:05<00:00, 352.65it/s]\n",
            "  2%|▏         | 35/1875 [00:00<00:05, 344.98it/s]"
          ],
          "name": "stderr"
        },
        {
          "output_type": "stream",
          "text": [
            "======> epoch: 36/120, Loss:0.028860732913017273\n",
            "Entering Epoch:  37\n"
          ],
          "name": "stdout"
        },
        {
          "output_type": "stream",
          "text": [
            "100%|██████████| 1875/1875 [00:05<00:00, 340.25it/s]\n",
            "  2%|▏         | 29/1875 [00:00<00:06, 288.09it/s]"
          ],
          "name": "stderr"
        },
        {
          "output_type": "stream",
          "text": [
            "======> epoch: 37/120, Loss:0.03008740209043026\n",
            "Entering Epoch:  38\n"
          ],
          "name": "stdout"
        },
        {
          "output_type": "stream",
          "text": [
            "100%|██████████| 1875/1875 [00:06<00:00, 293.44it/s]\n",
            "  2%|▏         | 30/1875 [00:00<00:06, 291.37it/s]"
          ],
          "name": "stderr"
        },
        {
          "output_type": "stream",
          "text": [
            "======> epoch: 38/120, Loss:0.03580300137400627\n",
            "Entering Epoch:  39\n"
          ],
          "name": "stdout"
        },
        {
          "output_type": "stream",
          "text": [
            "100%|██████████| 1875/1875 [00:05<00:00, 329.16it/s]\n",
            "  2%|▏         | 36/1875 [00:00<00:05, 353.25it/s]"
          ],
          "name": "stderr"
        },
        {
          "output_type": "stream",
          "text": [
            "======> epoch: 39/120, Loss:0.029674720019102097\n",
            "Entering Epoch:  40\n"
          ],
          "name": "stdout"
        },
        {
          "output_type": "stream",
          "text": [
            "100%|██████████| 1875/1875 [00:05<00:00, 355.43it/s]\n",
            "  2%|▏         | 35/1875 [00:00<00:05, 345.04it/s]"
          ],
          "name": "stderr"
        },
        {
          "output_type": "stream",
          "text": [
            "======> epoch: 40/120, Loss:0.03466292470693588\n",
            "Entering Epoch:  41\n"
          ],
          "name": "stdout"
        },
        {
          "output_type": "stream",
          "text": [
            "100%|██████████| 1875/1875 [00:05<00:00, 354.27it/s]\n",
            "  2%|▏         | 35/1875 [00:00<00:05, 347.94it/s]"
          ],
          "name": "stderr"
        },
        {
          "output_type": "stream",
          "text": [
            "======> epoch: 41/120, Loss:0.029113681986927986\n",
            "Entering Epoch:  42\n"
          ],
          "name": "stdout"
        },
        {
          "output_type": "stream",
          "text": [
            "100%|██████████| 1875/1875 [00:05<00:00, 353.36it/s]\n",
            "  2%|▏         | 33/1875 [00:00<00:05, 323.87it/s]"
          ],
          "name": "stderr"
        },
        {
          "output_type": "stream",
          "text": [
            "======> epoch: 42/120, Loss:0.032162293791770935\n",
            "Entering Epoch:  43\n"
          ],
          "name": "stdout"
        },
        {
          "output_type": "stream",
          "text": [
            "100%|██████████| 1875/1875 [00:05<00:00, 348.15it/s]\n",
            "  2%|▏         | 35/1875 [00:00<00:05, 349.81it/s]"
          ],
          "name": "stderr"
        },
        {
          "output_type": "stream",
          "text": [
            "======> epoch: 43/120, Loss:0.02975574880838394\n",
            "Entering Epoch:  44\n"
          ],
          "name": "stdout"
        },
        {
          "output_type": "stream",
          "text": [
            "100%|██████████| 1875/1875 [00:05<00:00, 355.86it/s]\n",
            "  2%|▏         | 36/1875 [00:00<00:05, 355.19it/s]"
          ],
          "name": "stderr"
        },
        {
          "output_type": "stream",
          "text": [
            "======> epoch: 44/120, Loss:0.0300697460770607\n",
            "Entering Epoch:  45\n"
          ],
          "name": "stdout"
        },
        {
          "output_type": "stream",
          "text": [
            "100%|██████████| 1875/1875 [00:05<00:00, 355.45it/s]\n",
            "  2%|▏         | 33/1875 [00:00<00:05, 321.71it/s]"
          ],
          "name": "stderr"
        },
        {
          "output_type": "stream",
          "text": [
            "======> epoch: 45/120, Loss:0.035581495612859726\n",
            "Entering Epoch:  46\n"
          ],
          "name": "stdout"
        },
        {
          "output_type": "stream",
          "text": [
            "100%|██████████| 1875/1875 [00:05<00:00, 354.70it/s]\n",
            "  2%|▏         | 36/1875 [00:00<00:05, 350.47it/s]"
          ],
          "name": "stderr"
        },
        {
          "output_type": "stream",
          "text": [
            "======> epoch: 46/120, Loss:0.03387004882097244\n",
            "Entering Epoch:  47\n"
          ],
          "name": "stdout"
        },
        {
          "output_type": "stream",
          "text": [
            "100%|██████████| 1875/1875 [00:05<00:00, 352.23it/s]\n",
            "  2%|▏         | 30/1875 [00:00<00:06, 298.18it/s]"
          ],
          "name": "stderr"
        },
        {
          "output_type": "stream",
          "text": [
            "======> epoch: 47/120, Loss:0.0324636809527874\n",
            "Entering Epoch:  48\n"
          ],
          "name": "stdout"
        },
        {
          "output_type": "stream",
          "text": [
            "100%|██████████| 1875/1875 [00:06<00:00, 306.23it/s]\n",
            "  2%|▏         | 31/1875 [00:00<00:06, 302.94it/s]"
          ],
          "name": "stderr"
        },
        {
          "output_type": "stream",
          "text": [
            "======> epoch: 48/120, Loss:0.02689267508685589\n",
            "Entering Epoch:  49\n"
          ],
          "name": "stdout"
        },
        {
          "output_type": "stream",
          "text": [
            "100%|██████████| 1875/1875 [00:05<00:00, 323.28it/s]\n",
            "  2%|▏         | 35/1875 [00:00<00:05, 348.00it/s]"
          ],
          "name": "stderr"
        },
        {
          "output_type": "stream",
          "text": [
            "======> epoch: 49/120, Loss:0.033404625952243805\n",
            "Entering Epoch:  50\n"
          ],
          "name": "stdout"
        },
        {
          "output_type": "stream",
          "text": [
            "100%|██████████| 1875/1875 [00:05<00:00, 356.87it/s]\n",
            "  2%|▏         | 36/1875 [00:00<00:05, 351.66it/s]"
          ],
          "name": "stderr"
        },
        {
          "output_type": "stream",
          "text": [
            "======> epoch: 50/120, Loss:0.026478808373212814\n",
            "Entering Epoch:  51\n"
          ],
          "name": "stdout"
        },
        {
          "output_type": "stream",
          "text": [
            "100%|██████████| 1875/1875 [00:05<00:00, 356.83it/s]\n",
            "  2%|▏         | 36/1875 [00:00<00:05, 351.06it/s]"
          ],
          "name": "stderr"
        },
        {
          "output_type": "stream",
          "text": [
            "======> epoch: 51/120, Loss:0.02790663205087185\n",
            "Entering Epoch:  52\n"
          ],
          "name": "stdout"
        },
        {
          "output_type": "stream",
          "text": [
            "100%|██████████| 1875/1875 [00:05<00:00, 351.22it/s]\n",
            "  2%|▏         | 35/1875 [00:00<00:05, 341.16it/s]"
          ],
          "name": "stderr"
        },
        {
          "output_type": "stream",
          "text": [
            "======> epoch: 52/120, Loss:0.027032755315303802\n",
            "Entering Epoch:  53\n"
          ],
          "name": "stdout"
        },
        {
          "output_type": "stream",
          "text": [
            "100%|██████████| 1875/1875 [00:05<00:00, 355.52it/s]\n",
            "  2%|▏         | 35/1875 [00:00<00:05, 348.26it/s]"
          ],
          "name": "stderr"
        },
        {
          "output_type": "stream",
          "text": [
            "======> epoch: 53/120, Loss:0.027010425925254822\n",
            "Entering Epoch:  54\n"
          ],
          "name": "stdout"
        },
        {
          "output_type": "stream",
          "text": [
            "100%|██████████| 1875/1875 [00:05<00:00, 354.90it/s]\n",
            "  2%|▏         | 34/1875 [00:00<00:05, 337.82it/s]"
          ],
          "name": "stderr"
        },
        {
          "output_type": "stream",
          "text": [
            "======> epoch: 54/120, Loss:0.029131080955266953\n",
            "Entering Epoch:  55\n"
          ],
          "name": "stdout"
        },
        {
          "output_type": "stream",
          "text": [
            "100%|██████████| 1875/1875 [00:05<00:00, 354.42it/s]\n",
            "  2%|▏         | 35/1875 [00:00<00:05, 340.86it/s]"
          ],
          "name": "stderr"
        },
        {
          "output_type": "stream",
          "text": [
            "======> epoch: 55/120, Loss:0.028712039813399315\n",
            "Entering Epoch:  56\n"
          ],
          "name": "stdout"
        },
        {
          "output_type": "stream",
          "text": [
            "100%|██████████| 1875/1875 [00:05<00:00, 355.95it/s]\n",
            "  2%|▏         | 35/1875 [00:00<00:05, 349.73it/s]"
          ],
          "name": "stderr"
        },
        {
          "output_type": "stream",
          "text": [
            "======> epoch: 56/120, Loss:0.03216388821601868\n",
            "Entering Epoch:  57\n"
          ],
          "name": "stdout"
        },
        {
          "output_type": "stream",
          "text": [
            "100%|██████████| 1875/1875 [00:05<00:00, 354.25it/s]\n",
            "  2%|▏         | 36/1875 [00:00<00:05, 354.40it/s]"
          ],
          "name": "stderr"
        },
        {
          "output_type": "stream",
          "text": [
            "======> epoch: 57/120, Loss:0.027881227433681488\n",
            "Entering Epoch:  58\n"
          ],
          "name": "stdout"
        },
        {
          "output_type": "stream",
          "text": [
            "100%|██████████| 1875/1875 [00:05<00:00, 354.77it/s]\n",
            "  2%|▏         | 32/1875 [00:00<00:05, 317.00it/s]"
          ],
          "name": "stderr"
        },
        {
          "output_type": "stream",
          "text": [
            "======> epoch: 58/120, Loss:0.03054805099964142\n",
            "Entering Epoch:  59\n"
          ],
          "name": "stdout"
        },
        {
          "output_type": "stream",
          "text": [
            "100%|██████████| 1875/1875 [00:05<00:00, 353.09it/s]\n",
            "  2%|▏         | 36/1875 [00:00<00:05, 352.31it/s]"
          ],
          "name": "stderr"
        },
        {
          "output_type": "stream",
          "text": [
            "======> epoch: 59/120, Loss:0.027852550148963928\n",
            "Entering Epoch:  60\n"
          ],
          "name": "stdout"
        },
        {
          "output_type": "stream",
          "text": [
            "100%|██████████| 1875/1875 [00:05<00:00, 353.35it/s]\n",
            "  2%|▏         | 33/1875 [00:00<00:05, 328.34it/s]"
          ],
          "name": "stderr"
        },
        {
          "output_type": "stream",
          "text": [
            "======> epoch: 60/120, Loss:0.028727371245622635\n",
            "Entering Epoch:  61\n"
          ],
          "name": "stdout"
        },
        {
          "output_type": "stream",
          "text": [
            "100%|██████████| 1875/1875 [00:05<00:00, 355.25it/s]\n",
            "  2%|▏         | 36/1875 [00:00<00:05, 351.81it/s]"
          ],
          "name": "stderr"
        },
        {
          "output_type": "stream",
          "text": [
            "======> epoch: 61/120, Loss:0.03103669360280037\n",
            "Entering Epoch:  62\n"
          ],
          "name": "stdout"
        },
        {
          "output_type": "stream",
          "text": [
            "100%|██████████| 1875/1875 [00:05<00:00, 352.74it/s]\n",
            "  2%|▏         | 30/1875 [00:00<00:06, 296.59it/s]"
          ],
          "name": "stderr"
        },
        {
          "output_type": "stream",
          "text": [
            "======> epoch: 62/120, Loss:0.028559764847159386\n",
            "Entering Epoch:  63\n"
          ],
          "name": "stdout"
        },
        {
          "output_type": "stream",
          "text": [
            "100%|██████████| 1875/1875 [00:06<00:00, 306.96it/s]\n",
            "  2%|▏         | 31/1875 [00:00<00:06, 302.23it/s]"
          ],
          "name": "stderr"
        },
        {
          "output_type": "stream",
          "text": [
            "======> epoch: 63/120, Loss:0.027164896950125694\n",
            "Entering Epoch:  64\n"
          ],
          "name": "stdout"
        },
        {
          "output_type": "stream",
          "text": [
            "100%|██████████| 1875/1875 [00:05<00:00, 324.99it/s]\n",
            "  2%|▏         | 35/1875 [00:00<00:05, 349.63it/s]"
          ],
          "name": "stderr"
        },
        {
          "output_type": "stream",
          "text": [
            "======> epoch: 64/120, Loss:0.02717626839876175\n",
            "Entering Epoch:  65\n"
          ],
          "name": "stdout"
        },
        {
          "output_type": "stream",
          "text": [
            "100%|██████████| 1875/1875 [00:05<00:00, 355.45it/s]\n",
            "  2%|▏         | 36/1875 [00:00<00:05, 355.14it/s]"
          ],
          "name": "stderr"
        },
        {
          "output_type": "stream",
          "text": [
            "======> epoch: 65/120, Loss:0.025673391297459602\n",
            "Entering Epoch:  66\n"
          ],
          "name": "stdout"
        },
        {
          "output_type": "stream",
          "text": [
            "100%|██████████| 1875/1875 [00:05<00:00, 353.13it/s]\n",
            "  2%|▏         | 36/1875 [00:00<00:05, 350.95it/s]"
          ],
          "name": "stderr"
        },
        {
          "output_type": "stream",
          "text": [
            "======> epoch: 66/120, Loss:0.02766711451113224\n",
            "Entering Epoch:  67\n"
          ],
          "name": "stdout"
        },
        {
          "output_type": "stream",
          "text": [
            "100%|██████████| 1875/1875 [00:05<00:00, 356.51it/s]\n",
            "  2%|▏         | 36/1875 [00:00<00:05, 352.20it/s]"
          ],
          "name": "stderr"
        },
        {
          "output_type": "stream",
          "text": [
            "======> epoch: 67/120, Loss:0.03018694929778576\n",
            "Entering Epoch:  68\n"
          ],
          "name": "stdout"
        },
        {
          "output_type": "stream",
          "text": [
            "100%|██████████| 1875/1875 [00:05<00:00, 355.70it/s]\n",
            "  2%|▏         | 33/1875 [00:00<00:05, 325.92it/s]"
          ],
          "name": "stderr"
        },
        {
          "output_type": "stream",
          "text": [
            "======> epoch: 68/120, Loss:0.024607863277196884\n",
            "Entering Epoch:  69\n"
          ],
          "name": "stdout"
        },
        {
          "output_type": "stream",
          "text": [
            "100%|██████████| 1875/1875 [00:05<00:00, 354.38it/s]\n",
            "  2%|▏         | 35/1875 [00:00<00:05, 346.91it/s]"
          ],
          "name": "stderr"
        },
        {
          "output_type": "stream",
          "text": [
            "======> epoch: 69/120, Loss:0.02705385535955429\n",
            "Entering Epoch:  70\n"
          ],
          "name": "stdout"
        },
        {
          "output_type": "stream",
          "text": [
            "100%|██████████| 1875/1875 [00:05<00:00, 354.47it/s]\n",
            "  2%|▏         | 36/1875 [00:00<00:05, 352.84it/s]"
          ],
          "name": "stderr"
        },
        {
          "output_type": "stream",
          "text": [
            "======> epoch: 70/120, Loss:0.026117105036973953\n",
            "Entering Epoch:  71\n"
          ],
          "name": "stdout"
        },
        {
          "output_type": "stream",
          "text": [
            "100%|██████████| 1875/1875 [00:05<00:00, 355.24it/s]\n",
            "  2%|▏         | 36/1875 [00:00<00:05, 353.61it/s]"
          ],
          "name": "stderr"
        },
        {
          "output_type": "stream",
          "text": [
            "======> epoch: 71/120, Loss:0.02892029844224453\n",
            "Entering Epoch:  72\n"
          ],
          "name": "stdout"
        },
        {
          "output_type": "stream",
          "text": [
            "100%|██████████| 1875/1875 [00:05<00:00, 353.09it/s]\n",
            "  2%|▏         | 35/1875 [00:00<00:05, 349.92it/s]"
          ],
          "name": "stderr"
        },
        {
          "output_type": "stream",
          "text": [
            "======> epoch: 72/120, Loss:0.027028189972043037\n",
            "Entering Epoch:  73\n"
          ],
          "name": "stdout"
        },
        {
          "output_type": "stream",
          "text": [
            "100%|██████████| 1875/1875 [00:05<00:00, 355.95it/s]\n",
            "  2%|▏         | 36/1875 [00:00<00:05, 351.17it/s]"
          ],
          "name": "stderr"
        },
        {
          "output_type": "stream",
          "text": [
            "======> epoch: 73/120, Loss:0.028847752138972282\n",
            "Entering Epoch:  74\n"
          ],
          "name": "stdout"
        },
        {
          "output_type": "stream",
          "text": [
            "100%|██████████| 1875/1875 [00:05<00:00, 355.99it/s]\n",
            "  2%|▏         | 34/1875 [00:00<00:05, 339.54it/s]"
          ],
          "name": "stderr"
        },
        {
          "output_type": "stream",
          "text": [
            "======> epoch: 74/120, Loss:0.027272889390587807\n",
            "Entering Epoch:  75\n"
          ],
          "name": "stdout"
        },
        {
          "output_type": "stream",
          "text": [
            "100%|██████████| 1875/1875 [00:05<00:00, 351.76it/s]\n",
            "  2%|▏         | 35/1875 [00:00<00:05, 345.00it/s]"
          ],
          "name": "stderr"
        },
        {
          "output_type": "stream",
          "text": [
            "======> epoch: 75/120, Loss:0.02643396332859993\n",
            "Entering Epoch:  76\n"
          ],
          "name": "stdout"
        },
        {
          "output_type": "stream",
          "text": [
            "100%|██████████| 1875/1875 [00:05<00:00, 355.45it/s]\n",
            "  2%|▏         | 36/1875 [00:00<00:05, 352.26it/s]"
          ],
          "name": "stderr"
        },
        {
          "output_type": "stream",
          "text": [
            "======> epoch: 76/120, Loss:0.02690323442220688\n",
            "Entering Epoch:  77\n"
          ],
          "name": "stdout"
        },
        {
          "output_type": "stream",
          "text": [
            "100%|██████████| 1875/1875 [00:05<00:00, 349.93it/s]\n",
            "  2%|▏         | 30/1875 [00:00<00:06, 296.00it/s]"
          ],
          "name": "stderr"
        },
        {
          "output_type": "stream",
          "text": [
            "======> epoch: 77/120, Loss:0.026185598224401474\n",
            "Entering Epoch:  78\n"
          ],
          "name": "stdout"
        },
        {
          "output_type": "stream",
          "text": [
            "100%|██████████| 1875/1875 [00:06<00:00, 306.81it/s]\n",
            "  2%|▏         | 31/1875 [00:00<00:06, 304.29it/s]"
          ],
          "name": "stderr"
        },
        {
          "output_type": "stream",
          "text": [
            "======> epoch: 78/120, Loss:0.027222611010074615\n",
            "Entering Epoch:  79\n"
          ],
          "name": "stdout"
        },
        {
          "output_type": "stream",
          "text": [
            "100%|██████████| 1875/1875 [00:05<00:00, 328.84it/s]\n",
            "  2%|▏         | 34/1875 [00:00<00:05, 339.66it/s]"
          ],
          "name": "stderr"
        },
        {
          "output_type": "stream",
          "text": [
            "======> epoch: 79/120, Loss:0.02516557276248932\n",
            "Entering Epoch:  80\n"
          ],
          "name": "stdout"
        },
        {
          "output_type": "stream",
          "text": [
            "100%|██████████| 1875/1875 [00:05<00:00, 354.67it/s]\n",
            "  2%|▏         | 36/1875 [00:00<00:05, 352.42it/s]"
          ],
          "name": "stderr"
        },
        {
          "output_type": "stream",
          "text": [
            "======> epoch: 80/120, Loss:0.024410229176282883\n",
            "Entering Epoch:  81\n"
          ],
          "name": "stdout"
        },
        {
          "output_type": "stream",
          "text": [
            "100%|██████████| 1875/1875 [00:05<00:00, 353.33it/s]\n",
            "  2%|▏         | 36/1875 [00:00<00:05, 352.60it/s]"
          ],
          "name": "stderr"
        },
        {
          "output_type": "stream",
          "text": [
            "======> epoch: 81/120, Loss:0.03344433382153511\n",
            "Entering Epoch:  82\n"
          ],
          "name": "stdout"
        },
        {
          "output_type": "stream",
          "text": [
            "100%|██████████| 1875/1875 [00:05<00:00, 354.17it/s]\n",
            "  2%|▏         | 35/1875 [00:00<00:05, 349.00it/s]"
          ],
          "name": "stderr"
        },
        {
          "output_type": "stream",
          "text": [
            "======> epoch: 82/120, Loss:0.02569134160876274\n",
            "Entering Epoch:  83\n"
          ],
          "name": "stdout"
        },
        {
          "output_type": "stream",
          "text": [
            "100%|██████████| 1875/1875 [00:05<00:00, 353.09it/s]\n",
            "  2%|▏         | 35/1875 [00:00<00:05, 344.56it/s]"
          ],
          "name": "stderr"
        },
        {
          "output_type": "stream",
          "text": [
            "======> epoch: 83/120, Loss:0.02614513225853443\n",
            "Entering Epoch:  84\n"
          ],
          "name": "stdout"
        },
        {
          "output_type": "stream",
          "text": [
            "100%|██████████| 1875/1875 [00:05<00:00, 355.50it/s]\n",
            "  2%|▏         | 36/1875 [00:00<00:05, 351.39it/s]"
          ],
          "name": "stderr"
        },
        {
          "output_type": "stream",
          "text": [
            "======> epoch: 84/120, Loss:0.02682308480143547\n",
            "Entering Epoch:  85\n"
          ],
          "name": "stdout"
        },
        {
          "output_type": "stream",
          "text": [
            "100%|██████████| 1875/1875 [00:05<00:00, 355.51it/s]\n",
            "  2%|▏         | 36/1875 [00:00<00:05, 353.77it/s]"
          ],
          "name": "stderr"
        },
        {
          "output_type": "stream",
          "text": [
            "======> epoch: 85/120, Loss:0.027318723499774933\n",
            "Entering Epoch:  86\n"
          ],
          "name": "stdout"
        },
        {
          "output_type": "stream",
          "text": [
            "100%|██████████| 1875/1875 [00:05<00:00, 354.86it/s]\n",
            "  2%|▏         | 36/1875 [00:00<00:05, 353.14it/s]"
          ],
          "name": "stderr"
        },
        {
          "output_type": "stream",
          "text": [
            "======> epoch: 86/120, Loss:0.022243259474635124\n",
            "Entering Epoch:  87\n"
          ],
          "name": "stdout"
        },
        {
          "output_type": "stream",
          "text": [
            "100%|██████████| 1875/1875 [00:05<00:00, 355.02it/s]\n",
            "  2%|▏         | 35/1875 [00:00<00:05, 346.17it/s]"
          ],
          "name": "stderr"
        },
        {
          "output_type": "stream",
          "text": [
            "======> epoch: 87/120, Loss:0.0257416944950819\n",
            "Entering Epoch:  88\n"
          ],
          "name": "stdout"
        },
        {
          "output_type": "stream",
          "text": [
            "100%|██████████| 1875/1875 [00:05<00:00, 356.19it/s]\n",
            "  2%|▏         | 35/1875 [00:00<00:05, 349.07it/s]"
          ],
          "name": "stderr"
        },
        {
          "output_type": "stream",
          "text": [
            "======> epoch: 88/120, Loss:0.025301240384578705\n",
            "Entering Epoch:  89\n"
          ],
          "name": "stdout"
        },
        {
          "output_type": "stream",
          "text": [
            "100%|██████████| 1875/1875 [00:05<00:00, 354.05it/s]\n",
            "  2%|▏         | 35/1875 [00:00<00:05, 349.60it/s]"
          ],
          "name": "stderr"
        },
        {
          "output_type": "stream",
          "text": [
            "======> epoch: 89/120, Loss:0.02317321114242077\n",
            "Entering Epoch:  90\n"
          ],
          "name": "stdout"
        },
        {
          "output_type": "stream",
          "text": [
            "100%|██████████| 1875/1875 [00:05<00:00, 355.40it/s]\n",
            "  2%|▏         | 35/1875 [00:00<00:05, 346.95it/s]"
          ],
          "name": "stderr"
        },
        {
          "output_type": "stream",
          "text": [
            "======> epoch: 90/120, Loss:0.026089739054441452\n",
            "Entering Epoch:  91\n"
          ],
          "name": "stdout"
        },
        {
          "output_type": "stream",
          "text": [
            "100%|██████████| 1875/1875 [00:05<00:00, 355.64it/s]\n",
            "  2%|▏         | 32/1875 [00:00<00:05, 316.74it/s]"
          ],
          "name": "stderr"
        },
        {
          "output_type": "stream",
          "text": [
            "======> epoch: 91/120, Loss:0.02275414764881134\n",
            "Entering Epoch:  92\n"
          ],
          "name": "stdout"
        },
        {
          "output_type": "stream",
          "text": [
            "100%|██████████| 1875/1875 [00:05<00:00, 344.64it/s]\n",
            "  2%|▏         | 30/1875 [00:00<00:06, 296.32it/s]"
          ],
          "name": "stderr"
        },
        {
          "output_type": "stream",
          "text": [
            "======> epoch: 92/120, Loss:0.02440083585679531\n",
            "Entering Epoch:  93\n"
          ],
          "name": "stdout"
        },
        {
          "output_type": "stream",
          "text": [
            "100%|██████████| 1875/1875 [00:06<00:00, 307.04it/s]\n",
            "  2%|▏         | 31/1875 [00:00<00:06, 301.27it/s]"
          ],
          "name": "stderr"
        },
        {
          "output_type": "stream",
          "text": [
            "======> epoch: 93/120, Loss:0.02597312070429325\n",
            "Entering Epoch:  94\n"
          ],
          "name": "stdout"
        },
        {
          "output_type": "stream",
          "text": [
            "100%|██████████| 1875/1875 [00:05<00:00, 318.81it/s]\n",
            "  1%|▏         | 27/1875 [00:00<00:06, 267.94it/s]"
          ],
          "name": "stderr"
        },
        {
          "output_type": "stream",
          "text": [
            "======> epoch: 94/120, Loss:0.027220115065574646\n",
            "Entering Epoch:  95\n"
          ],
          "name": "stdout"
        },
        {
          "output_type": "stream",
          "text": [
            "100%|██████████| 1875/1875 [00:06<00:00, 294.39it/s]\n",
            "  2%|▏         | 30/1875 [00:00<00:06, 293.62it/s]"
          ],
          "name": "stderr"
        },
        {
          "output_type": "stream",
          "text": [
            "======> epoch: 95/120, Loss:0.023383814841508865\n",
            "Entering Epoch:  96\n"
          ],
          "name": "stdout"
        },
        {
          "output_type": "stream",
          "text": [
            "100%|██████████| 1875/1875 [00:05<00:00, 315.37it/s]\n",
            "  2%|▏         | 32/1875 [00:00<00:05, 317.33it/s]"
          ],
          "name": "stderr"
        },
        {
          "output_type": "stream",
          "text": [
            "======> epoch: 96/120, Loss:0.02564122900366783\n",
            "Entering Epoch:  97\n"
          ],
          "name": "stdout"
        },
        {
          "output_type": "stream",
          "text": [
            "100%|██████████| 1875/1875 [00:05<00:00, 351.38it/s]\n",
            "  2%|▏         | 36/1875 [00:00<00:05, 350.38it/s]"
          ],
          "name": "stderr"
        },
        {
          "output_type": "stream",
          "text": [
            "======> epoch: 97/120, Loss:0.027132095769047737\n",
            "Entering Epoch:  98\n"
          ],
          "name": "stdout"
        },
        {
          "output_type": "stream",
          "text": [
            "100%|██████████| 1875/1875 [00:05<00:00, 355.95it/s]\n",
            "  2%|▏         | 35/1875 [00:00<00:05, 344.54it/s]"
          ],
          "name": "stderr"
        },
        {
          "output_type": "stream",
          "text": [
            "======> epoch: 98/120, Loss:0.02385694719851017\n",
            "Entering Epoch:  99\n"
          ],
          "name": "stdout"
        },
        {
          "output_type": "stream",
          "text": [
            "100%|██████████| 1875/1875 [00:05<00:00, 356.42it/s]\n",
            "  2%|▏         | 36/1875 [00:00<00:05, 353.86it/s]"
          ],
          "name": "stderr"
        },
        {
          "output_type": "stream",
          "text": [
            "======> epoch: 99/120, Loss:0.023021945729851723\n",
            "Entering Epoch:  100\n"
          ],
          "name": "stdout"
        },
        {
          "output_type": "stream",
          "text": [
            "100%|██████████| 1875/1875 [00:05<00:00, 353.59it/s]\n",
            "  2%|▏         | 36/1875 [00:00<00:05, 353.66it/s]"
          ],
          "name": "stderr"
        },
        {
          "output_type": "stream",
          "text": [
            "======> epoch: 100/120, Loss:0.025326967239379883\n",
            "Entering Epoch:  101\n"
          ],
          "name": "stdout"
        },
        {
          "output_type": "stream",
          "text": [
            "100%|██████████| 1875/1875 [00:05<00:00, 355.96it/s]\n",
            "  2%|▏         | 35/1875 [00:00<00:05, 347.86it/s]"
          ],
          "name": "stderr"
        },
        {
          "output_type": "stream",
          "text": [
            "======> epoch: 101/120, Loss:0.022845067083835602\n",
            "Entering Epoch:  102\n"
          ],
          "name": "stdout"
        },
        {
          "output_type": "stream",
          "text": [
            "100%|██████████| 1875/1875 [00:05<00:00, 354.76it/s]\n",
            "  2%|▏         | 33/1875 [00:00<00:05, 324.68it/s]"
          ],
          "name": "stderr"
        },
        {
          "output_type": "stream",
          "text": [
            "======> epoch: 102/120, Loss:0.02455546334385872\n",
            "Entering Epoch:  103\n"
          ],
          "name": "stdout"
        },
        {
          "output_type": "stream",
          "text": [
            "100%|██████████| 1875/1875 [00:05<00:00, 353.96it/s]\n",
            "  2%|▏         | 35/1875 [00:00<00:05, 345.44it/s]"
          ],
          "name": "stderr"
        },
        {
          "output_type": "stream",
          "text": [
            "======> epoch: 103/120, Loss:0.023210963234305382\n",
            "Entering Epoch:  104\n"
          ],
          "name": "stdout"
        },
        {
          "output_type": "stream",
          "text": [
            "100%|██████████| 1875/1875 [00:05<00:00, 356.06it/s]\n",
            "  2%|▏         | 35/1875 [00:00<00:05, 349.62it/s]"
          ],
          "name": "stderr"
        },
        {
          "output_type": "stream",
          "text": [
            "======> epoch: 104/120, Loss:0.02328934520483017\n",
            "Entering Epoch:  105\n"
          ],
          "name": "stdout"
        },
        {
          "output_type": "stream",
          "text": [
            "100%|██████████| 1875/1875 [00:05<00:00, 355.06it/s]\n",
            "  2%|▏         | 36/1875 [00:00<00:05, 352.44it/s]"
          ],
          "name": "stderr"
        },
        {
          "output_type": "stream",
          "text": [
            "======> epoch: 105/120, Loss:0.02464912086725235\n",
            "Entering Epoch:  106\n"
          ],
          "name": "stdout"
        },
        {
          "output_type": "stream",
          "text": [
            "100%|██████████| 1875/1875 [00:05<00:00, 354.48it/s]\n",
            "  2%|▏         | 36/1875 [00:00<00:05, 351.26it/s]"
          ],
          "name": "stderr"
        },
        {
          "output_type": "stream",
          "text": [
            "======> epoch: 106/120, Loss:0.027664480730891228\n",
            "Entering Epoch:  107\n"
          ],
          "name": "stdout"
        },
        {
          "output_type": "stream",
          "text": [
            "100%|██████████| 1875/1875 [00:05<00:00, 328.02it/s]\n",
            "  2%|▏         | 31/1875 [00:00<00:06, 303.27it/s]"
          ],
          "name": "stderr"
        },
        {
          "output_type": "stream",
          "text": [
            "======> epoch: 107/120, Loss:0.023136386647820473\n",
            "Entering Epoch:  108\n"
          ],
          "name": "stdout"
        },
        {
          "output_type": "stream",
          "text": [
            "100%|██████████| 1875/1875 [00:06<00:00, 305.94it/s]\n",
            "  2%|▏         | 31/1875 [00:00<00:06, 301.45it/s]"
          ],
          "name": "stderr"
        },
        {
          "output_type": "stream",
          "text": [
            "======> epoch: 108/120, Loss:0.024768907576799393\n",
            "Entering Epoch:  109\n"
          ],
          "name": "stdout"
        },
        {
          "output_type": "stream",
          "text": [
            "100%|██████████| 1875/1875 [00:05<00:00, 349.64it/s]\n",
            "  2%|▏         | 36/1875 [00:00<00:05, 352.92it/s]"
          ],
          "name": "stderr"
        },
        {
          "output_type": "stream",
          "text": [
            "======> epoch: 109/120, Loss:0.02430102601647377\n",
            "Entering Epoch:  110\n"
          ],
          "name": "stdout"
        },
        {
          "output_type": "stream",
          "text": [
            "100%|██████████| 1875/1875 [00:05<00:00, 355.56it/s]\n",
            "  2%|▏         | 36/1875 [00:00<00:05, 353.99it/s]"
          ],
          "name": "stderr"
        },
        {
          "output_type": "stream",
          "text": [
            "======> epoch: 110/120, Loss:0.023662012070417404\n",
            "Entering Epoch:  111\n"
          ],
          "name": "stdout"
        },
        {
          "output_type": "stream",
          "text": [
            "100%|██████████| 1875/1875 [00:05<00:00, 356.75it/s]\n",
            "  2%|▏         | 35/1875 [00:00<00:05, 345.46it/s]"
          ],
          "name": "stderr"
        },
        {
          "output_type": "stream",
          "text": [
            "======> epoch: 111/120, Loss:0.021156126633286476\n",
            "Entering Epoch:  112\n"
          ],
          "name": "stdout"
        },
        {
          "output_type": "stream",
          "text": [
            "100%|██████████| 1875/1875 [00:05<00:00, 353.97it/s]\n",
            "  2%|▏         | 36/1875 [00:00<00:05, 353.20it/s]"
          ],
          "name": "stderr"
        },
        {
          "output_type": "stream",
          "text": [
            "======> epoch: 112/120, Loss:0.024805745109915733\n",
            "Entering Epoch:  113\n"
          ],
          "name": "stdout"
        },
        {
          "output_type": "stream",
          "text": [
            "100%|██████████| 1875/1875 [00:05<00:00, 355.11it/s]\n",
            "  2%|▏         | 36/1875 [00:00<00:05, 351.21it/s]"
          ],
          "name": "stderr"
        },
        {
          "output_type": "stream",
          "text": [
            "======> epoch: 113/120, Loss:0.022023756057024002\n",
            "Entering Epoch:  114\n"
          ],
          "name": "stdout"
        },
        {
          "output_type": "stream",
          "text": [
            "100%|██████████| 1875/1875 [00:05<00:00, 354.79it/s]\n",
            "  2%|▏         | 35/1875 [00:00<00:05, 349.02it/s]"
          ],
          "name": "stderr"
        },
        {
          "output_type": "stream",
          "text": [
            "======> epoch: 114/120, Loss:0.022249484434723854\n",
            "Entering Epoch:  115\n"
          ],
          "name": "stdout"
        },
        {
          "output_type": "stream",
          "text": [
            "100%|██████████| 1875/1875 [00:05<00:00, 354.98it/s]\n",
            "  2%|▏         | 35/1875 [00:00<00:05, 347.03it/s]"
          ],
          "name": "stderr"
        },
        {
          "output_type": "stream",
          "text": [
            "======> epoch: 115/120, Loss:0.025139397010207176\n",
            "Entering Epoch:  116\n"
          ],
          "name": "stdout"
        },
        {
          "output_type": "stream",
          "text": [
            "100%|██████████| 1875/1875 [00:05<00:00, 354.56it/s]\n",
            "  2%|▏         | 35/1875 [00:00<00:05, 348.38it/s]"
          ],
          "name": "stderr"
        },
        {
          "output_type": "stream",
          "text": [
            "======> epoch: 116/120, Loss:0.024218140169978142\n",
            "Entering Epoch:  117\n"
          ],
          "name": "stdout"
        },
        {
          "output_type": "stream",
          "text": [
            "100%|██████████| 1875/1875 [00:05<00:00, 355.12it/s]\n",
            "  2%|▏         | 35/1875 [00:00<00:05, 347.97it/s]"
          ],
          "name": "stderr"
        },
        {
          "output_type": "stream",
          "text": [
            "======> epoch: 117/120, Loss:0.02438724786043167\n",
            "Entering Epoch:  118\n"
          ],
          "name": "stdout"
        },
        {
          "output_type": "stream",
          "text": [
            "100%|██████████| 1875/1875 [00:05<00:00, 354.31it/s]\n",
            "  2%|▏         | 36/1875 [00:00<00:05, 352.38it/s]"
          ],
          "name": "stderr"
        },
        {
          "output_type": "stream",
          "text": [
            "======> epoch: 118/120, Loss:0.024126427248120308\n",
            "Entering Epoch:  119\n"
          ],
          "name": "stdout"
        },
        {
          "output_type": "stream",
          "text": [
            "100%|██████████| 1875/1875 [00:05<00:00, 354.11it/s]"
          ],
          "name": "stderr"
        },
        {
          "output_type": "stream",
          "text": [
            "======> epoch: 119/120, Loss:0.02400180697441101\n"
          ],
          "name": "stdout"
        },
        {
          "output_type": "stream",
          "text": [
            "\n"
          ],
          "name": "stderr"
        }
      ]
    },
    {
      "metadata": {
        "id": "rT6HTaPB5IAL",
        "colab_type": "code",
        "outputId": "1dbaa140-6874-4ebc-99a3-8bdfd14e7ae3",
        "colab": {
          "base_uri": "https://localhost:8080/",
          "height": 287
        }
      },
      "cell_type": "code",
      "source": [
        "plt.plot(range(len(losslist)),losslist)"
      ],
      "execution_count": 20,
      "outputs": [
        {
          "output_type": "execute_result",
          "data": {
            "text/plain": [
              "[<matplotlib.lines.Line2D at 0x7fe98e07a3c8>]"
            ]
          },
          "metadata": {
            "tags": []
          },
          "execution_count": 20
        },
        {
          "output_type": "display_data",
          "data": {
            "image/png": "[encoded data removed]",
            "text/plain": [
              "<Figure size 432x288 with 1 Axes>"
            ]
          },
          "metadata": {
            "tags": []
          }
        }
      ]
    },
    {
      "metadata": {
        "id": "D2TAOjeZMBfp",
        "colab_type": "code",
        "colab": {
          "base_uri": "https://localhost:8080/",
          "height": 1151
        },
        "outputId": "0771669b-3b4d-4311-e233-a3b432960362"
      },
      "cell_type": "code",
      "source": [
        "\"\"\"Here, we try to visualize some of the results.\n",
        "  We randomly generate 6 numbers in between 1 and 10k , run them through the model,\n",
        "  and show the results with comparisons\n",
        "  \n",
        " \"\"\"\n",
        "\n",
        "\n",
        "\n",
        "\n",
        "f,axes= plt.subplots(6,3,figsize=(20,20))\n",
        "axes[0,0].set_title(\"Original Image\")\n",
        "axes[0,1].set_title(\"Dirty Image\")\n",
        "axes[0,2].set_title(\"Cleaned Image\")\n",
        "\n",
        "test_imgs=np.random.randint(0,10000,size=6)\n",
        "for idx in range((6)):\n",
        "  dirty=testset[test_imgs[idx]][0]\n",
        "  clean=testset[test_imgs[idx]][1]\n",
        "  label=testset[test_imgs[idx]][2]\n",
        "  dirty=dirty.view(dirty.size(0),-1).type(torch.FloatTensor)\n",
        "  dirty=dirty.to(device)\n",
        "  output=model(dirty)\n",
        "  \n",
        "  output=output.view(1,28,28)\n",
        "  output=output.permute(1,2,0).squeeze(2)\n",
        "  output=output.detach().cpu().numpy()\n",
        "  \n",
        "  dirty=dirty.view(1,28,28)\n",
        "  dirty=dirty.permute(1,2,0).squeeze(2)\n",
        "  dirty=dirty.detach().cpu().numpy()\n",
        "  \n",
        "  clean=clean.permute(1,2,0).squeeze(2)\n",
        "  clean=clean.detach().cpu().numpy()\n",
        "  \n",
        "  axes[idx,0].imshow(clean,cmap=\"gray\")\n",
        "  axes[idx,1].imshow(dirty,cmap=\"gray\")\n",
        "  axes[idx,2].imshow(output,cmap=\"gray\")\n",
        "  \n",
        "\n",
        "\n",
        "  \n",
        "  \n",
        "  \n",
        "  "
      ],
      "execution_count": 67,
      "outputs": [
        {
          "output_type": "display_data",
          "data": {
            "image/png": "[encoded data removed]",
            "text/plain": [
              "<Figure size 1440x1440 with 18 Axes>"
            ]
          },
          "metadata": {
            "tags": []
          }
        }
      ]
    },
    {
      "metadata": {
        "id": "PhP1vseSPcZc",
        "colab_type": "code",
        "colab": {}
      },
      "cell_type": "code",
      "source": [
        "PATH=\"\"\n",
        "torch.save(model.state_dict(),PATH)  # We save the model state dict at PATH   "
      ],
      "execution_count": 0,
      "outputs": []
    }
  ]
}